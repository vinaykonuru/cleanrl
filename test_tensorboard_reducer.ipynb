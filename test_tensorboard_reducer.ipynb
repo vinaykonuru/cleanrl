{
 "cells": [
  {
   "cell_type": "code",
   "execution_count": 1,
   "metadata": {},
   "outputs": [],
   "source": [
    "import shutil\n",
    "from glob import glob\n",
    "\n",
    "import tensorboard_reducer as tbr\n",
    "import os\n",
    "from pathlib import Path\n"
   ]
  },
  {
   "cell_type": "code",
   "execution_count": 7,
   "metadata": {},
   "outputs": [],
   "source": [
    "p = Path('runs/test') / 'sd'"
   ]
  },
  {
   "cell_type": "code",
   "execution_count": 8,
   "metadata": {},
   "outputs": [
    {
     "data": {
      "text/plain": [
       "'test'"
      ]
     },
     "execution_count": 8,
     "metadata": {},
     "output_type": "execute_result"
    }
   ],
   "source": [
    "p.parent.name"
   ]
  },
  {
   "cell_type": "code",
   "execution_count": 3,
   "metadata": {},
   "outputs": [
    {
     "name": "stdout",
     "output_type": "stream",
     "text": [
      "Found 4 runs:\n",
      "runs/test/Walker2d-v4__ddpg_continuous_action__37__1714450121\n",
      "runs/test/Walker2d-v4__dgum_continuous_action__37__1714450021\n",
      "runs/test/Walker2d-v4__sac_continuous_action__37__1714450389\n",
      "runs/test/Walker2d-v4__td3_continuous_action__37__1714450225\n"
     ]
    }
   ],
   "source": [
    "# where are your TensorBoard event files stored?\n",
    "input_event_dirs = sorted(glob(\"runs/test/*\"))\n",
    "\n",
    "joined_dirs = \"\\n\".join(input_event_dirs)\n",
    "print(f\"Found {len(input_event_dirs)} runs:\\n{joined_dirs}\")"
   ]
  },
  {
   "cell_type": "code",
   "execution_count": 5,
   "metadata": {},
   "outputs": [
    {
     "name": "stderr",
     "output_type": "stream",
     "text": [
      "Loading runs: 100%|██████████| 4/4 [00:00<00:00, 26.72it/s]\n",
      "Reading tags: 100%|██████████| 4/4 [00:00<00:00, 107.12it/s]"
     ]
    },
    {
     "name": "stdout",
     "output_type": "stream",
     "text": [
      "Loaded data for 13 tags into arrays of shape (n_steps, n_runs):\n",
      "- 'eval/training_avg': (20, 4)\n",
      "- 'charts/episodic_return': (469, 4)\n",
      "- 'charts/episodic_length': (469, 4)\n",
      "- 'losses/qf1_values': (99, 4)\n",
      "- 'losses/qf1_loss': (99, 4)\n",
      "- 'losses/actor_loss': (99, 4)\n",
      "- 'charts/SPS': (99, 4)\n",
      "- 'eval/episodic_return': (10, 4)\n",
      "- 'losses/qf2_values': (99, 2)\n",
      "- 'losses/qf2_loss': (99, 2)\n",
      "- 'losses/qf_loss': (99, 2)\n",
      "- 'losses/alpha': (99, 1)\n",
      "- 'losses/alpha_loss': (99, 1)\n"
     ]
    },
    {
     "name": "stderr",
     "output_type": "stream",
     "text": [
      "\n"
     ]
    }
   ],
   "source": [
    "events_out_dir = \"tmp/reduced\"\n",
    "csv_out_path = \"tmp/tb-reduction.csv\"\n",
    "overwrite = True\n",
    "reduce_ops = (\"mean\", \"min\", \"max\", \"std\", \"median\")\n",
    "\n",
    "events_dict = tbr.load_tb_events(input_event_dirs, verbose=True, strict_tags=False, strict_steps=False)"
   ]
  },
  {
   "cell_type": "code",
   "execution_count": 6,
   "metadata": {},
   "outputs": [
    {
     "name": "stdout",
     "output_type": "stream",
     "text": [
      "Reduced 13 scalars with 3 operations: (mean, min, max)\n",
      "Writing 'mean' reduction to 'tmp/reduced-mean'\n",
      "Writing 'min' reduction to 'tmp/reduced-min'\n",
      "Writing 'max' reduction to 'tmp/reduced-max'\n"
     ]
    },
    {
     "name": "stderr",
     "output_type": "stream",
     "text": [
      "/home/rswamy/.conda/envs/cleanrl/lib/python3.9/site-packages/tqdm/auto.py:21: TqdmWarning: IProgress not found. Please update jupyter and ipywidgets. See https://ipywidgets.readthedocs.io/en/stable/user_install.html\n",
      "  from .autonotebook import tqdm as notebook_tqdm\n",
      "Writing max reduction to disk: 100%|██████████| 3/3 [00:00<00:00,  3.94it/s] "
     ]
    },
    {
     "name": "stdout",
     "output_type": "stream",
     "text": [
      "Created new TensorBoard event files in\n",
      "- tmp/reduced-mean\n",
      "- tmp/reduced-min\n",
      "- tmp/reduced-max\n",
      "Writing results to 'tmp/tb-reduction.csv'\n",
      "Created new data file at 'tmp/tb-reduction.csv'\n",
      "✓ Reduction complete\n"
     ]
    },
    {
     "name": "stderr",
     "output_type": "stream",
     "text": [
      "\n"
     ]
    }
   ],
   "source": [
    "reduced_events = tbr.reduce_events(events_dict, reduce_ops, verbose=True)\n",
    "\n",
    "for op in reduce_ops:\n",
    "    print(f\"Writing '{op}' reduction to '{events_out_dir}-{op}'\")\n",
    "\n",
    "tbr.write_tb_events(reduced_events, events_out_dir, overwrite, verbose=True)\n",
    "\n",
    "print(f\"Writing results to '{csv_out_path}'\")\n",
    "\n",
    "tbr.write_data_file(reduced_events, csv_out_path, overwrite, verbose=True)\n",
    "\n",
    "print(\"✓ Reduction complete\")"
   ]
  },
  {
   "cell_type": "code",
   "execution_count": null,
   "metadata": {},
   "outputs": [],
   "source": []
  }
 ],
 "metadata": {
  "kernelspec": {
   "display_name": "Python 3",
   "language": "python",
   "name": "python3"
  },
  "language_info": {
   "codemirror_mode": {
    "name": "ipython",
    "version": 3
   },
   "file_extension": ".py",
   "mimetype": "text/x-python",
   "name": "python",
   "nbconvert_exporter": "python",
   "pygments_lexer": "ipython3",
   "version": "3.9.19"
  }
 },
 "nbformat": 4,
 "nbformat_minor": 2
}
